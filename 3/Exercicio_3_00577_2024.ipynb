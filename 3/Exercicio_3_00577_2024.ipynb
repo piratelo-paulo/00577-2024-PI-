{
  "nbformat": 4,
  "nbformat_minor": 0,
  "metadata": {
    "colab": {
      "provenance": [],
      "gpuType": "T4"
    },
    "kernelspec": {
      "name": "python3",
      "display_name": "Python 3"
    },
    "language_info": {
      "name": "python"
    },
    "accelerator": "GPU"
  },
  "cells": [
    {
      "cell_type": "code",
      "execution_count": null,
      "metadata": {
        "colab": {
          "base_uri": "https://localhost:8080/"
        },
        "id": "GHvOlfCsI4nO",
        "outputId": "ab75eecc-e8f7-4149-a290-db07005288a8"
      },
      "outputs": [
        {
          "output_type": "stream",
          "name": "stdout",
          "text": [
            "Mounted at /content/gdrive\n"
          ]
        }
      ],
      "source": [
        "#imput pelo googlecolab\n",
        "from google.colab import drive\n",
        "drive.mount('/content/gdrive')"
      ]
    },
    {
      "cell_type": "code",
      "source": [
        "from zipfile import ZipFile\n",
        "file_name = '/content/gdrive/MyDrive/Colab Notebooks/Dataset/building.zip'\n",
        "#salvar o dataset no gdrive e mudar caminho quem for o rodar\n",
        "#file_name = '/content/gdrive/MyDrive/etc...'\n",
        "with ZipFile(file_name, 'r') as zip:\n",
        "  zip.extractall()\n",
        "  print('Done')"
      ],
      "metadata": {
        "colab": {
          "base_uri": "https://localhost:8080/"
        },
        "id": "mLXJ_ed9JAGm",
        "outputId": "d2dd61ec-44ac-4a6a-ef1b-2ae0f2fc427d"
      },
      "execution_count": null,
      "outputs": [
        {
          "output_type": "stream",
          "name": "stdout",
          "text": [
            "Done\n"
          ]
        }
      ]
    },
    {
      "cell_type": "code",
      "source": [
        "!git clone https://github.com/crowdAI/mapping-challenge-starter-kit"
      ],
      "metadata": {
        "colab": {
          "base_uri": "https://localhost:8080/"
        },
        "id": "q7M-t8zmK55l",
        "outputId": "157a76cf-1b05-4a30-a03f-92086e19db5f"
      },
      "execution_count": null,
      "outputs": [
        {
          "output_type": "stream",
          "name": "stdout",
          "text": [
            "fatal: destination path 'mapping-challenge-starter-kit' already exists and is not an empty directory.\n"
          ]
        }
      ]
    },
    {
      "cell_type": "code",
      "source": [
        "cd mapping-challenge-starter-kit"
      ],
      "metadata": {
        "colab": {
          "base_uri": "https://localhost:8080/"
        },
        "id": "37E274Z3LAQV",
        "outputId": "c457493e-65eb-44d3-d546-04273adc7ba9"
      },
      "execution_count": null,
      "outputs": [
        {
          "output_type": "stream",
          "name": "stdout",
          "text": [
            "/content/mapping-challenge-starter-kit\n"
          ]
        }
      ]
    },
    {
      "cell_type": "code",
      "source": [
        "pip install git+https://github.com/crowdai/coco.git#subdirectory=PythonAPI"
      ],
      "metadata": {
        "colab": {
          "base_uri": "https://localhost:8080/"
        },
        "id": "y4A6lfTVNfPt",
        "outputId": "1d356435-b6dc-4877-917e-b4f726b2d01a"
      },
      "execution_count": null,
      "outputs": [
        {
          "output_type": "stream",
          "name": "stdout",
          "text": [
            "Collecting git+https://github.com/crowdai/coco.git#subdirectory=PythonAPI\n",
            "  Cloning https://github.com/crowdai/coco.git to /tmp/pip-req-build-0pmmo9vi\n",
            "  Running command git clone --filter=blob:none --quiet https://github.com/crowdai/coco.git /tmp/pip-req-build-0pmmo9vi\n",
            "  Resolved https://github.com/crowdai/coco.git to commit d321db87d05de8e00cc32d05c385b5898d598cf9\n",
            "  Preparing metadata (setup.py) ... \u001b[?25l\u001b[?25hdone\n",
            "Requirement already satisfied: Cython in /usr/local/lib/python3.10/dist-packages (from pycocotools==2.0) (3.0.9)\n"
          ]
        }
      ]
    },
    {
      "cell_type": "code",
      "source": [
        "!ls"
      ],
      "metadata": {
        "colab": {
          "base_uri": "https://localhost:8080/"
        },
        "id": "kxuY6VPXLbld",
        "outputId": "548f99b8-7519-43e4-dd92-ee226bbe3138"
      },
      "execution_count": null,
      "outputs": [
        {
          "output_type": "stream",
          "name": "stdout",
          "text": [
            " cocoeval.py\t       'Local Evaluation.ipynb'    random_submission.py\n",
            " data\t\t        log_file_name.zip\t   README.md\n",
            "'Dataset Utils.ipynb'  'Random Submission.ipynb'   requirements.txt\n"
          ]
        }
      ]
    },
    {
      "cell_type": "code",
      "source": [
        "pip install -r requirements.txt"
      ],
      "metadata": {
        "colab": {
          "base_uri": "https://localhost:8080/"
        },
        "id": "ksi-oWPDLFLt",
        "outputId": "78d2c746-b770-4cdd-e209-7d33239defae"
      },
      "execution_count": null,
      "outputs": [
        {
          "output_type": "stream",
          "name": "stdout",
          "text": [
            "Collecting awscli==1.14.50 (from -r requirements.txt (line 1))\n",
            "  Using cached awscli-1.14.50-py2.py3-none-any.whl (1.2 MB)\n",
            "Collecting botocore==1.9.3 (from -r requirements.txt (line 2))\n",
            "  Using cached botocore-1.9.3-py2.py3-none-any.whl (4.1 MB)\n",
            "Collecting certifi==2018.4.16 (from -r requirements.txt (line 3))\n",
            "  Using cached certifi-2018.4.16-py2.py3-none-any.whl (150 kB)\n",
            "Collecting cffi==1.11.5 (from -r requirements.txt (line 4))\n",
            "  Using cached cffi-1.11.5.tar.gz (438 kB)\n",
            "  Preparing metadata (setup.py) ... \u001b[?25l\u001b[?25hdone\n",
            "Collecting colorama==0.3.7 (from -r requirements.txt (line 5))\n",
            "  Using cached colorama-0.3.7-py2.py3-none-any.whl (19 kB)\n",
            "Collecting cycler==0.10.0 (from -r requirements.txt (line 6))\n",
            "  Using cached cycler-0.10.0-py2.py3-none-any.whl (6.5 kB)\n",
            "Collecting Cython==0.28.1 (from -r requirements.txt (line 7))\n",
            "  Using cached Cython-0.28.1.tar.gz (1.8 MB)\n",
            "  \u001b[1;31merror\u001b[0m: \u001b[1msubprocess-exited-with-error\u001b[0m\n",
            "  \n",
            "  \u001b[31m×\u001b[0m \u001b[32mpython setup.py egg_info\u001b[0m did not run successfully.\n",
            "  \u001b[31m│\u001b[0m exit code: \u001b[1;36m1\u001b[0m\n",
            "  \u001b[31m╰─>\u001b[0m See above for output.\n",
            "  \n",
            "  \u001b[1;35mnote\u001b[0m: This error originates from a subprocess, and is likely not a problem with pip.\n",
            "  Preparing metadata (setup.py) ... \u001b[?25l\u001b[?25herror\n",
            "\u001b[1;31merror\u001b[0m: \u001b[1mmetadata-generation-failed\u001b[0m\n",
            "\n",
            "\u001b[31m×\u001b[0m Encountered error while generating package metadata.\n",
            "\u001b[31m╰─>\u001b[0m See above for output.\n",
            "\n",
            "\u001b[1;35mnote\u001b[0m: This is an issue with the package mentioned above, not pip.\n",
            "\u001b[1;36mhint\u001b[0m: See above for details.\n"
          ]
        }
      ]
    },
    {
      "cell_type": "code",
      "source": [
        "%matplotlib inline\n",
        "from pycocotools.coco import COCO\n",
        "from pycocotools import mask as cocomask\n",
        "import numpy as np\n",
        "import skimage.io as io\n",
        "import matplotlib.pyplot as plt\n",
        "import pylab\n",
        "import random\n",
        "import os\n",
        "pylab.rcParams['figure.figsize'] = (8.0, 10.0)"
      ],
      "metadata": {
        "id": "LzQydyTjOVd0"
      },
      "execution_count": null,
      "outputs": []
    },
    {
      "cell_type": "code",
      "source": [
        "data_directory = \"data/\"\n",
        "annotation_file_template = \"{}/{}/annotation{}.json\"\n",
        "\n",
        "TRAIN_IMAGES_DIRECTORY = \"/content/mapping-challenge-starter-kit/data/train/images\"\n",
        "TRAIN_ANNOTATIONS_PATH = \"/content/mapping-challenge-starter-kit/data/train/annotation.json\"\n",
        "TRAIN_ANNOTATIONS_SMALL_PATH = \"/content/mapping-challenge-starter-kit/data/train/annotation-small.json\"\n"
      ],
      "metadata": {
        "id": "q8-AWu2cOanW"
      },
      "execution_count": null,
      "outputs": []
    },
    {
      "cell_type": "code",
      "source": [
        "import shutil"
      ],
      "metadata": {
        "id": "EqAKLsrQPAid"
      },
      "execution_count": null,
      "outputs": []
    },
    {
      "cell_type": "markdown",
      "source": [
        "# parei aqui"
      ],
      "metadata": {
        "id": "ebzcrV8Q1L2a"
      }
    },
    {
      "cell_type": "code",
      "source": [
        "original = '/content/train'\n",
        "target = '/content/mapping-challenge-starter-kit/data'\n",
        "\n",
        "shutil.move(original, target)"
      ],
      "metadata": {
        "id": "52piXcwAOyDs"
      },
      "execution_count": null,
      "outputs": []
    },
    {
      "cell_type": "code",
      "source": [
        "original = '/content/annotation-small.json'\n",
        "target = '/content/mapping-challenge-starter-kit/data/train'\n",
        "\n",
        "shutil.move(original, target)"
      ],
      "metadata": {
        "id": "7FmCNqtnz8bj"
      },
      "execution_count": null,
      "outputs": []
    },
    {
      "cell_type": "code",
      "source": [
        "original = '/content/annotation.json'\n",
        "target = '/content/mapping-challenge-starter-kit/data/train'\n",
        "\n",
        "shutil.move(original, target)"
      ],
      "metadata": {
        "colab": {
          "base_uri": "https://localhost:8080/",
          "height": 35
        },
        "id": "enV3antn0LTV",
        "outputId": "fe0e7c86-6b67-455d-d220-59380376ef0c"
      },
      "execution_count": null,
      "outputs": [
        {
          "output_type": "execute_result",
          "data": {
            "text/plain": [
              "'/content/mapping-challenge-starter-kit/data/train/annotation.json'"
            ],
            "application/vnd.google.colaboratory.intrinsic+json": {
              "type": "string"
            }
          },
          "metadata": {},
          "execution_count": 13
        }
      ]
    },
    {
      "cell_type": "markdown",
      "source": [
        "# continuei aqui"
      ],
      "metadata": {
        "id": "3kKIftEX1gqi"
      }
    },
    {
      "cell_type": "markdown",
      "source": [
        "**Trabalhando com o dataset parcial**"
      ],
      "metadata": {
        "id": "jvLsi4X6pFe6"
      }
    },
    {
      "cell_type": "code",
      "source": [
        "coco = COCO(TRAIN_ANNOTATIONS_SMALL_PATH)"
      ],
      "metadata": {
        "colab": {
          "base_uri": "https://localhost:8080/"
        },
        "outputId": "c2e244e9-0dfd-4bf1-b0cb-1046934c082e",
        "id": "HAaiaawSpEGP"
      },
      "execution_count": null,
      "outputs": [
        {
          "output_type": "stream",
          "name": "stdout",
          "text": [
            "loading annotations into memory...\n",
            "Done (t=1.31s)\n",
            "creating index...\n",
            "index created!\n"
          ]
        }
      ]
    },
    {
      "cell_type": "code",
      "source": [
        "category_ids = coco.loadCats(coco.getCatIds())\n",
        "print(category_ids)"
      ],
      "metadata": {
        "colab": {
          "base_uri": "https://localhost:8080/"
        },
        "outputId": "8af235b4-c6c6-41bc-8058-bc50236de990",
        "id": "_Uq5sV0xpEGP"
      },
      "execution_count": null,
      "outputs": [
        {
          "output_type": "stream",
          "name": "stdout",
          "text": [
            "[{'id': 100, 'name': 'building', 'supercategory': 'building'}]\n"
          ]
        }
      ]
    },
    {
      "cell_type": "code",
      "source": [
        "# This generates a list of all `image_ids` available in the dataset\n",
        "image_ids = coco.getImgIds(catIds=coco.getCatIds())"
      ],
      "metadata": {
        "id": "yZV24xAapEGQ"
      },
      "execution_count": null,
      "outputs": []
    },
    {
      "cell_type": "code",
      "source": [
        "len(image_ids)"
      ],
      "metadata": {
        "colab": {
          "base_uri": "https://localhost:8080/"
        },
        "id": "wga-fUJz1l_a",
        "outputId": "771e0e1a-8742-4f6d-be76-35a60af19f75"
      },
      "execution_count": null,
      "outputs": [
        {
          "output_type": "execute_result",
          "data": {
            "text/plain": [
              "8366"
            ]
          },
          "metadata": {},
          "execution_count": 11
        }
      ]
    },
    {
      "cell_type": "code",
      "source": [
        "divisao = 12\n",
        "n_samples = int(len(image_ids)/divisao)\n",
        "print(n_samples)"
      ],
      "metadata": {
        "colab": {
          "base_uri": "https://localhost:8080/"
        },
        "id": "soV7ymcgEx-_",
        "outputId": "ade1fbb5-66d6-456d-e546-fdab72c1de4c"
      },
      "execution_count": null,
      "outputs": [
        {
          "output_type": "stream",
          "name": "stdout",
          "text": [
            "697\n"
          ]
        }
      ]
    },
    {
      "cell_type": "code",
      "source": [
        "image_ids_part1 = image_ids[:int(len(image_ids)/divisao)]"
      ],
      "metadata": {
        "id": "ny92S9twEpVx"
      },
      "execution_count": null,
      "outputs": []
    },
    {
      "cell_type": "markdown",
      "source": [
        "**código treinamento U-NET**"
      ],
      "metadata": {
        "id": "Vm6rN0NS1wYh"
      }
    },
    {
      "cell_type": "code",
      "source": [
        "pip install segmentation-models==1.0.1"
      ],
      "metadata": {
        "colab": {
          "base_uri": "https://localhost:8080/"
        },
        "id": "_2jPIfXP2eYS",
        "outputId": "99217cd5-7b4a-4c8e-dce8-e0a048f0f1e4"
      },
      "execution_count": null,
      "outputs": [
        {
          "output_type": "stream",
          "name": "stdout",
          "text": [
            "Requirement already satisfied: segmentation-models==1.0.1 in /usr/local/lib/python3.10/dist-packages (1.0.1)\n",
            "Requirement already satisfied: keras-applications<=1.0.8,>=1.0.7 in /usr/local/lib/python3.10/dist-packages (from segmentation-models==1.0.1) (1.0.8)\n",
            "Requirement already satisfied: image-classifiers==1.0.0 in /usr/local/lib/python3.10/dist-packages (from segmentation-models==1.0.1) (1.0.0)\n",
            "Requirement already satisfied: efficientnet==1.0.0 in /usr/local/lib/python3.10/dist-packages (from segmentation-models==1.0.1) (1.0.0)\n",
            "Requirement already satisfied: scikit-image in /usr/local/lib/python3.10/dist-packages (from efficientnet==1.0.0->segmentation-models==1.0.1) (0.19.3)\n",
            "Requirement already satisfied: numpy>=1.9.1 in /usr/local/lib/python3.10/dist-packages (from keras-applications<=1.0.8,>=1.0.7->segmentation-models==1.0.1) (1.25.2)\n",
            "Requirement already satisfied: h5py in /usr/local/lib/python3.10/dist-packages (from keras-applications<=1.0.8,>=1.0.7->segmentation-models==1.0.1) (3.9.0)\n",
            "Requirement already satisfied: scipy>=1.4.1 in /usr/local/lib/python3.10/dist-packages (from scikit-image->efficientnet==1.0.0->segmentation-models==1.0.1) (1.11.4)\n",
            "Requirement already satisfied: networkx>=2.2 in /usr/local/lib/python3.10/dist-packages (from scikit-image->efficientnet==1.0.0->segmentation-models==1.0.1) (3.2.1)\n",
            "Requirement already satisfied: pillow!=7.1.0,!=7.1.1,!=8.3.0,>=6.1.0 in /usr/local/lib/python3.10/dist-packages (from scikit-image->efficientnet==1.0.0->segmentation-models==1.0.1) (9.4.0)\n",
            "Requirement already satisfied: imageio>=2.4.1 in /usr/local/lib/python3.10/dist-packages (from scikit-image->efficientnet==1.0.0->segmentation-models==1.0.1) (2.31.6)\n",
            "Requirement already satisfied: tifffile>=2019.7.26 in /usr/local/lib/python3.10/dist-packages (from scikit-image->efficientnet==1.0.0->segmentation-models==1.0.1) (2024.2.12)\n",
            "Requirement already satisfied: PyWavelets>=1.1.1 in /usr/local/lib/python3.10/dist-packages (from scikit-image->efficientnet==1.0.0->segmentation-models==1.0.1) (1.5.0)\n",
            "Requirement already satisfied: packaging>=20.0 in /usr/local/lib/python3.10/dist-packages (from scikit-image->efficientnet==1.0.0->segmentation-models==1.0.1) (24.0)\n"
          ]
        }
      ]
    },
    {
      "cell_type": "code",
      "source": [
        "import os\n",
        "os.environ[\"SM_FRAMEWORK\"] = \"tf.keras\"\n",
        "#os.environ[\"TF_GPU_ALLOCATOR\"]=\"cuda_malloc_async\"\n",
        "#os.environ[\"TF_CPP_VMODULE\"]=\"gpu_process_state=10,gpu_cudamallocasync_allocator=10\"\n",
        "\n",
        "import cv2\n",
        "import pandas as pd\n",
        "import numpy as np\n",
        "import matplotlib.pyplot as plt\n",
        "import tensorflow as tf\n",
        "import scipy\n",
        "from PIL import Image\n",
        "import os\n",
        "\n",
        "from matplotlib import gridspec\n",
        "import time\n",
        "\n",
        "from tensorflow.keras.utils import to_categorical\n",
        "from tensorflow.keras.metrics import MeanIoU\n",
        "from sklearn.preprocessing import MinMaxScaler, StandardScaler\n",
        "scaler = MinMaxScaler()\n",
        "from sklearn.model_selection import train_test_split\n",
        "import random\n",
        "import segmentation_models as sm\n",
        "from tensorflow.keras.metrics import MeanIoU\n",
        "import argparse\n",
        "from tensorflow.keras.layers import Input\n",
        "from keras import backend as K\n",
        "import os\n",
        "import keras\n",
        "import logging\n",
        "import io\n",
        "from contextlib import redirect_stdout\n",
        "from datetime import datetime"
      ],
      "metadata": {
        "colab": {
          "base_uri": "https://localhost:8080/"
        },
        "id": "6tQ_UDZX1z6r",
        "outputId": "8087f910-4499-405c-a9cb-d11c5e2cec5f"
      },
      "execution_count": null,
      "outputs": [
        {
          "output_type": "stream",
          "name": "stdout",
          "text": [
            "Segmentation Models: using `tf.keras` framework.\n"
          ]
        }
      ]
    },
    {
      "cell_type": "code",
      "source": [
        "def save_model_summary(model, log_file_path, log_file_name, backbone_name, history):\n",
        "    \"\"\"\n",
        "    Save the model architecture to a JSON file\n",
        "    \"\"\"\n",
        "    model_json = model.to_json()\n",
        "    json_file_path = log_file_path + '_architecture.json'\n",
        "    with open(json_file_path, 'w') as json_file:\n",
        "        json_file.write(model_json)\n",
        "    logging.info(f'Model architecture saved to: {json_file_path}')\n",
        "\n",
        "    \"\"\"# Save the model summary to a text file\n",
        "    summary_stream = io.StringIO()\n",
        "    with redirect_stdout(summary_stream):\n",
        "        model.summary()\n",
        "\n",
        "    summary_file_path = log_file_path + log_file_name + '_summary.txt'\n",
        "    with open(summary_file_path, 'w') as summary_file:\n",
        "        summary_file.write(summary_stream.getvalue())\n",
        "        summary_file.write(backbone_name)\n",
        "        summary_file.write(str(history.history))\n",
        "    logging.info(f'Model summary saved to: {summary_file_path}')\"\"\""
      ],
      "metadata": {
        "id": "qM3zgBrt2l8j"
      },
      "execution_count": null,
      "outputs": []
    },
    {
      "cell_type": "code",
      "source": [
        "def rgb_to_2D_label(label):\n",
        "    label_seg = np.zeros(label.shape,dtype=np.uint8)\n",
        "    label_seg [np.all(label == 0,axis=-1)] = 1\n",
        "    label_seg [np.all(label==1,axis=-1)] = 0\n",
        "#     label_seg [np.all(label == \"any\",axis=-1)] = 2\n",
        "\n",
        "    label_seg = label_seg[:,:,0]  #Just take the first channel, no need for all 3 channels\n",
        "\n",
        "    return label_seg"
      ],
      "metadata": {
        "id": "-mY89i2l23oj"
      },
      "execution_count": null,
      "outputs": []
    },
    {
      "cell_type": "code",
      "source": [
        "def jacard_coef(y_true, y_pred):\n",
        "    y_true_f = K.flatten(y_true)\n",
        "    y_pred_f = K.flatten(y_pred)\n",
        "    intersection = K.sum(y_true_f * y_pred_f)\n",
        "    return (intersection + 1.0) / (K.sum(y_true_f) + K.sum(y_pred_f) - intersection + 1.0)"
      ],
      "metadata": {
        "id": "wHpa9VAH25yy"
      },
      "execution_count": null,
      "outputs": []
    },
    {
      "cell_type": "code",
      "source": [
        "def dice_coef(y_true, y_pred, smooth=1):\n",
        "    intersection = K.sum(y_true * y_pred, axis=[1,2,3])\n",
        "    union = K.sum(y_true, axis=[1,2,3]) + K.sum(y_pred, axis=[1,2,3])\n",
        "    dice = K.mean((2. * intersection + smooth)/(union + smooth), axis=0)\n",
        "    return dice"
      ],
      "metadata": {
        "id": "7dmXq6iZ276S"
      },
      "execution_count": null,
      "outputs": []
    },
    {
      "cell_type": "markdown",
      "source": [
        "**preparing the dataset**"
      ],
      "metadata": {
        "id": "vVjZuLQt-YWZ"
      }
    },
    {
      "cell_type": "code",
      "source": [
        "%matplotlib inline\n",
        "from pycocotools.coco import COCO\n",
        "from pycocotools import mask as cocomask\n",
        "import numpy as np\n",
        "import skimage.io as io\n",
        "import matplotlib.pyplot as plt\n",
        "import pylab\n",
        "import random\n",
        "import os\n",
        "pylab.rcParams['figure.figsize'] = (8.0, 10.0)"
      ],
      "metadata": {
        "id": "9qT25atXHzeg"
      },
      "execution_count": null,
      "outputs": []
    },
    {
      "cell_type": "code",
      "source": [
        "def get_generator_image_dataset(image_ids_part1,coco,TRAIN_IMAGES_DIRECTORY):\n",
        "    for idx, image in enumerate(image_ids_part1):\n",
        "\n",
        "        #getting the image from the dataset\n",
        "        img = coco.loadImgs(image)[0]\n",
        "        #print(img[\"file_name\"])\n",
        "        image_path = os.path.join(TRAIN_IMAGES_DIRECTORY, img[\"file_name\"])\n",
        "        I = io.imread(image_path)\n",
        "        img_resized = cv2.resize(I,(256,256))\n",
        "\n",
        "        #generating the mask\n",
        "        annotation_ids = coco.getAnnIds(imgIds=img['id'])\n",
        "        annotations = coco.loadAnns(annotation_ids)\n",
        "\n",
        "\n",
        "        yield img_resized"
      ],
      "metadata": {
        "id": "xIBTbvk43eRF"
      },
      "execution_count": null,
      "outputs": []
    },
    {
      "cell_type": "code",
      "source": [
        "image_dataset_gen = get_generator_image_dataset(image_ids_part1,coco,TRAIN_IMAGES_DIRECTORY)"
      ],
      "metadata": {
        "id": "p7CjVnzZ4kSt"
      },
      "execution_count": null,
      "outputs": []
    },
    {
      "cell_type": "code",
      "source": [
        "def get_generator_mask_dataset(image_ids_part1,coco,TRAIN_IMAGES_DIRECTORY):\n",
        "    for idx, image in enumerate(image_ids_part1):\n",
        "\n",
        "        img = coco.loadImgs(image)[0]\n",
        "        #print(img[\"file_name\"])\n",
        "        image_path = os.path.join(TRAIN_IMAGES_DIRECTORY, img[\"file_name\"])\n",
        "        I = io.imread(image_path)\n",
        "        img_resized = cv2.resize(I,(256,256))\n",
        "\n",
        "        #generating the mask\n",
        "        annotation_ids = coco.getAnnIds(imgIds=img['id'])\n",
        "        annotations = coco.loadAnns(annotation_ids)\n",
        "\n",
        "\n",
        "        #generating the mask\n",
        "        annotation_ids = coco.getAnnIds(imgIds=img['id'])\n",
        "        annotations = coco.loadAnns(annotation_ids)\n",
        "\n",
        "        mask_complete = np.zeros((300,300), dtype='uint8')\n",
        "        for _idx, annotation in enumerate(annotations):\n",
        "\n",
        "          rle = cocomask.frPyObjects(annotation['segmentation'], img['height'], img['width'])\n",
        "          m = cocomask.decode(rle)\n",
        "          # m.shape has a shape of (300, 300, 1)\n",
        "          # so we first convert it to a shape of (300, 300)\n",
        "          m = m.reshape((img['height'], img['width']))\n",
        "\n",
        "          mask_complete+=m\n",
        "        mask_complete = cv2.resize(mask_complete,(256,256))\n",
        "        mask_complete = np.repeat(mask_complete[:, :, np.newaxis], 3, axis=2)\n",
        "        yield mask_complete"
      ],
      "metadata": {
        "id": "38AlaARK5yEb"
      },
      "execution_count": null,
      "outputs": []
    },
    {
      "cell_type": "code",
      "source": [
        "mask_dataset_gen = get_generator_mask_dataset(image_ids_part1,coco,TRAIN_IMAGES_DIRECTORY)"
      ],
      "metadata": {
        "id": "WRlfgkW16we8"
      },
      "execution_count": null,
      "outputs": []
    },
    {
      "cell_type": "code",
      "source": [
        "image_dataset = np.zeros((0,256,256,3))\n",
        "\n",
        "for i in image_dataset_gen:\n",
        "    image_dataset = np.concatenate([image_dataset, np.expand_dims(np.array(i), axis=0)], axis=0)"
      ],
      "metadata": {
        "id": "c8aRPHQFu9QN"
      },
      "execution_count": null,
      "outputs": []
    },
    {
      "cell_type": "code",
      "source": [
        "mask_dataset = np.zeros((0,256,256,3))\n",
        "\n",
        "for idx, i in enumerate(mask_dataset_gen):\n",
        "    mask_dataset = np.concatenate([mask_dataset, np.expand_dims(np.array(i), axis=0)], axis=0)\n"
      ],
      "metadata": {
        "id": "G34WdNMBeakn"
      },
      "execution_count": null,
      "outputs": []
    },
    {
      "cell_type": "markdown",
      "source": [
        "**spliting train/val**"
      ],
      "metadata": {
        "id": "ipU5RR6U-U7K"
      }
    },
    {
      "cell_type": "code",
      "source": [
        "labels = []\n",
        "for i in range(mask_dataset.shape[0]):\n",
        "    label = rgb_to_2D_label(mask_dataset[i])\n",
        "    labels.append(label)\n",
        "\n",
        "labels = np.array(labels)\n",
        "print(\"labels.shape: \", labels.shape)\n",
        "#labels = np.expand_dims(labels, axis=3)\n",
        "\n",
        "# Making into one-hot encoding since the array has integers\n",
        "n_classes = len(np.unique(labels))\n",
        "print(\"numero de classes: \", n_classes)\n",
        "labels_cat = to_categorical(labels, num_classes=n_classes)\n",
        "print(\"labels_cat.shape: \", labels_cat.shape)"
      ],
      "metadata": {
        "colab": {
          "base_uri": "https://localhost:8080/"
        },
        "id": "bONSjDWl-QUa",
        "outputId": "9230eef6-e879-4047-dd8a-5afd338e081d"
      },
      "execution_count": null,
      "outputs": [
        {
          "output_type": "stream",
          "name": "stdout",
          "text": [
            "labels.shape:  (697, 256, 256)\n",
            "numero de classes:  2\n",
            "labels_cat.shape:  (697, 256, 256, 2)\n"
          ]
        }
      ]
    },
    {
      "cell_type": "code",
      "source": [
        "X_train, X_test, y_train, y_test = train_test_split(image_dataset, labels_cat, test_size = 0.30, random_state = 42)"
      ],
      "metadata": {
        "id": "eesWXcahzBIa"
      },
      "execution_count": null,
      "outputs": []
    },
    {
      "cell_type": "code",
      "source": [
        "print(\"X_train[0].dtype: \", X_train[0].dtype)\n",
        "print(\"y_train[0].dtype: \", y_train[0].dtype)\n",
        "print(\"X_test[0].dtype: \", X_test[0].dtype)\n",
        "print(\"y_test[0].dtype: \", y_test[0].dtype)\n",
        "\n",
        "print('X_train_size: ', X_train.shape)\n",
        "print('y_train_size: ', y_train.shape)\n",
        "print('X_test_size: ', X_test.shape)\n",
        "print('y_test_size: ', y_test.shape)"
      ],
      "metadata": {
        "colab": {
          "base_uri": "https://localhost:8080/"
        },
        "id": "e1t2i6yR0vzt",
        "outputId": "f957d103-f5de-4738-ea52-cad24e012cc2"
      },
      "execution_count": null,
      "outputs": [
        {
          "output_type": "stream",
          "name": "stdout",
          "text": [
            "X_train[0].dtype:  float64\n",
            "y_train[0].dtype:  float32\n",
            "X_test[0].dtype:  float64\n",
            "y_test[0].dtype:  float32\n",
            "X_train_size:  (365, 256, 256, 3)\n",
            "y_train_size:  (365, 256, 256, 2)\n",
            "X_test_size:  (157, 256, 256, 3)\n",
            "y_test_size:  (157, 256, 256, 2)\n"
          ]
        }
      ]
    },
    {
      "cell_type": "code",
      "source": [
        "# Using resnet backbone on unet with imagenet weights\n",
        "sm.set_framework('tf.keras')\n",
        "sm.framework()\n",
        "\n",
        "BACKBONE = 'efficientnetb7'\n",
        "preprocess_input = sm.get_preprocessing(BACKBONE)\n",
        "\n",
        "# preprocess input\n",
        "X_train_prepr = preprocess_input(X_train)\n",
        "X_test_prepr = preprocess_input(X_test)\n",
        "\n",
        "# define model: pretrained weights\n",
        "model_resnet_backbone = sm.Unet(BACKBONE, encoder_weights='imagenet', classes=n_classes, activation='softmax')\n",
        "\n",
        "inp = Input(shape=(None, None, 3))\n",
        "layer_1 = tf.keras.layers.Conv2D(3, (1, 1))(inp) # map N channels data to 2 channels\n",
        "out = model_resnet_backbone(layer_1)\n",
        "model_resnet_backbone = tf.keras.Model(inp, out, name=model_resnet_backbone.name)\n",
        "model_resnet_backbone.summary()\n",
        "\n",
        "metrics=['accuracy', jacard_coef]\n",
        "\n",
        "optimizer = tf.keras.optimizers.Adam(learning_rate= 0.0001)\n",
        "\n",
        "model_resnet_backbone.compile(optimizer=optimizer, loss='categorical_crossentropy', metrics= metrics)\n",
        "#model_resnet_backbone.compile(optimizer=optimizer, loss='binary_crossentropy', metrics= metrics)\n",
        "print(model_resnet_backbone.summary())\n",
        "\n"
      ],
      "metadata": {
        "colab": {
          "base_uri": "https://localhost:8080/"
        },
        "id": "6byt9A542mdt",
        "outputId": "0fad6493-1dd8-40c2-b45e-764a8bfd3180"
      },
      "execution_count": null,
      "outputs": [
        {
          "output_type": "stream",
          "name": "stdout",
          "text": [
            "Model: \"model\"\n",
            "_________________________________________________________________\n",
            " Layer (type)                Output Shape              Param #   \n",
            "=================================================================\n",
            " input_2 (InputLayer)        [(None, None, None, 3)]   0         \n",
            "                                                                 \n",
            " conv2d (Conv2D)             (None, None, None, 3)     12        \n",
            "                                                                 \n",
            " model (Functional)          (None, None, None, 2)     75048242  \n",
            "                                                                 \n",
            "=================================================================\n",
            "Total params: 75048254 (286.29 MB)\n",
            "Trainable params: 74735550 (285.09 MB)\n",
            "Non-trainable params: 312704 (1.19 MB)\n",
            "_________________________________________________________________\n",
            "Model: \"model\"\n",
            "_________________________________________________________________\n",
            " Layer (type)                Output Shape              Param #   \n",
            "=================================================================\n",
            " input_2 (InputLayer)        [(None, None, None, 3)]   0         \n",
            "                                                                 \n",
            " conv2d (Conv2D)             (None, None, None, 3)     12        \n",
            "                                                                 \n",
            " model (Functional)          (None, None, None, 2)     75048242  \n",
            "                                                                 \n",
            "=================================================================\n",
            "Total params: 75048254 (286.29 MB)\n",
            "Trainable params: 74735550 (285.09 MB)\n",
            "Non-trainable params: 312704 (1.19 MB)\n",
            "_________________________________________________________________\n",
            "None\n"
          ]
        }
      ]
    },
    {
      "cell_type": "markdown",
      "source": [
        "** não esquecer de criar pasta /model na raiz manualmente**"
      ],
      "metadata": {
        "id": "lOR9aFeWpkB-"
      }
    },
    {
      "cell_type": "code",
      "source": [
        "cd /content/"
      ],
      "metadata": {
        "colab": {
          "base_uri": "https://localhost:8080/"
        },
        "id": "STBOmu66TN8R",
        "outputId": "d801b012-dbfa-4a6e-ccd8-98f4ed00fad8"
      },
      "execution_count": null,
      "outputs": [
        {
          "output_type": "stream",
          "name": "stdout",
          "text": [
            "/content\n"
          ]
        }
      ]
    },
    {
      "cell_type": "code",
      "source": [
        "!mkdir model"
      ],
      "metadata": {
        "id": "gqNj9IY4TQaI"
      },
      "execution_count": null,
      "outputs": []
    },
    {
      "cell_type": "code",
      "source": [
        "main_loc = '/content/'\n",
        "model_path_to_save = '/model'\n",
        "log_file_path = os.path.join(main_loc + model_path_to_save)\n",
        "log_file_name = 'best_model_backbone_' + BACKBONE + '_' + datetime.now().strftime(\"%m%d%Y%H%M%S\") + '.h5'\n",
        "\n",
        "callbacks = [\n",
        "    keras.callbacks.ModelCheckpoint(\n",
        "        os.path.join(log_file_path, log_file_name),\n",
        "        save_weights_only=True,\n",
        "        save_best_only=True,\n",
        "        mode='min'\n",
        "    ),\n",
        "    keras.callbacks.ReduceLROnPlateau(),\n",
        "]\n",
        "\n",
        "history2=model_resnet_backbone.fit(X_train_prepr,\n",
        "          y_train,\n",
        "          batch_size=4,\n",
        "          epochs=8,\n",
        "          verbose=1,\n",
        "          callbacks=callbacks,\n",
        "          validation_data=(X_test_prepr, y_test))\n",
        "\n",
        "save_model_summary(model_resnet_backbone, log_file_path, log_file_name, BACKBONE, history2)\n",
        "\n",
        "history = history2\n",
        "loss = history.history['loss']\n",
        "val_loss = history.history['val_loss']\n",
        "epochs = range(1, len(loss) + 1)\n",
        "plt.figure(figsize=(12, 8))\n",
        "plt.plot(epochs, loss, 'y', label='Training loss')\n",
        "plt.plot(epochs, val_loss, 'r', label='Validation loss')\n",
        "plt.title('Training and validation loss')\n",
        "plt.xlabel('Epochs')\n",
        "plt.ylabel('Loss')\n",
        "plt.legend()\n",
        "#plt.show()\n",
        "plt.savefig(os.path.join(log_file_path, log_file_name + '_loss_curve.png'))\n",
        "\n",
        "loss = history.history['accuracy']\n",
        "val_loss = history.history['val_accuracy']\n",
        "epochs = range(1, len(loss) + 1)\n",
        "plt.figure(figsize=(12, 8))\n",
        "plt.plot(epochs, loss, 'y', label='Training accuracy')\n",
        "plt.plot(epochs, val_loss, 'r', label='Validation accuracy')\n",
        "plt.title('Training and validation accuracy')\n",
        "plt.xlabel('Epochs')\n",
        "plt.ylabel('accuracy')\n",
        "plt.legend()\n",
        "#plt.show()\n",
        "plt.savefig(os.path.join(log_file_path, log_file_name + '_acc_curve.png'))\n",
        "\n",
        "print('end')\n",
        "\n",
        "# Model evaluation\n",
        "y_pred=model_resnet_backbone.predict(X_test)\n",
        "y_pred_argmax=np.argmax(y_pred, axis=3)\n",
        "y_test_argmax=np.argmax(y_test, axis=3)\n",
        "\n",
        "print(jacard_coef(y_test,y_pred))\n",
        "IOU_keras = MeanIoU(num_classes=n_classes)\n",
        "IOU_keras.update_state(y_test_argmax,y_pred_argmax)\n",
        "print(IOU_keras.result().numpy())\n",
        "print(dice_coef(y_test,y_pred).numpy())\n"
      ],
      "metadata": {
        "id": "CZ6-vANSKk-z",
        "colab": {
          "base_uri": "https://localhost:8080/",
          "height": 1000
        },
        "outputId": "573f7258-920c-4080-a6cb-3947ba017997"
      },
      "execution_count": null,
      "outputs": [
        {
          "output_type": "stream",
          "name": "stdout",
          "text": [
            "Epoch 1/8\n",
            "122/122 [==============================] - 235s 645ms/step - loss: 0.3824 - accuracy: 0.8449 - jacard_coef: 0.5976 - val_loss: 0.2974 - val_accuracy: 0.8941 - val_jacard_coef: 0.6541 - lr: 1.0000e-04\n",
            "Epoch 2/8\n",
            "122/122 [==============================] - 64s 525ms/step - loss: 0.2496 - accuracy: 0.9028 - jacard_coef: 0.7240 - val_loss: 0.2494 - val_accuracy: 0.9124 - val_jacard_coef: 0.7168 - lr: 1.0000e-04\n",
            "Epoch 3/8\n",
            "122/122 [==============================] - 59s 487ms/step - loss: 0.2167 - accuracy: 0.9153 - jacard_coef: 0.7614 - val_loss: 0.1943 - val_accuracy: 0.9266 - val_jacard_coef: 0.7793 - lr: 1.0000e-04\n",
            "Epoch 4/8\n",
            "122/122 [==============================] - 64s 528ms/step - loss: 0.1928 - accuracy: 0.9250 - jacard_coef: 0.7882 - val_loss: 0.1862 - val_accuracy: 0.9256 - val_jacard_coef: 0.7947 - lr: 1.0000e-04\n",
            "Epoch 5/8\n",
            "122/122 [==============================] - 49s 402ms/step - loss: 0.1730 - accuracy: 0.9322 - jacard_coef: 0.8079 - val_loss: 0.1866 - val_accuracy: 0.9301 - val_jacard_coef: 0.8092 - lr: 1.0000e-04\n",
            "Epoch 6/8\n",
            "122/122 [==============================] - 66s 539ms/step - loss: 0.1564 - accuracy: 0.9389 - jacard_coef: 0.8235 - val_loss: 0.1640 - val_accuracy: 0.9365 - val_jacard_coef: 0.8226 - lr: 1.0000e-04\n",
            "Epoch 7/8\n",
            "122/122 [==============================] - 50s 406ms/step - loss: 0.1412 - accuracy: 0.9448 - jacard_coef: 0.8400 - val_loss: 0.1643 - val_accuracy: 0.9356 - val_jacard_coef: 0.8344 - lr: 1.0000e-04\n",
            "Epoch 8/8\n",
            "122/122 [==============================] - 62s 510ms/step - loss: 0.1396 - accuracy: 0.9460 - jacard_coef: 0.8441 - val_loss: 0.1613 - val_accuracy: 0.9388 - val_jacard_coef: 0.8421 - lr: 1.0000e-04\n",
            "end\n",
            "7/7 [==============================] - 25s 2s/step\n",
            "tf.Tensor(0.84121364, shape=(), dtype=float32)\n",
            "0.8356997\n",
            "0.9137606\n"
          ]
        },
        {
          "output_type": "display_data",
          "data": {
            "text/plain": [
              "<Figure size 1200x800 with 1 Axes>"
            ],
            "image/png": "[encoded data removed]"
          },
          "metadata": {}
        },
        {
          "output_type": "display_data",
          "data": {
            "text/plain": [
              "<Figure size 1200x800 with 1 Axes>"
            ],
            "image/png": "[encoded data removed]"
          },
          "metadata": {}
        }
      ]
    },
    {
      "cell_type": "code",
      "source": [
        "cd /content"
      ],
      "metadata": {
        "colab": {
          "base_uri": "https://localhost:8080/"
        },
        "id": "wnnkaxTUZETB",
        "outputId": "8ca7d164-42a9-4196-b3bf-4e072e1edafd"
      },
      "execution_count": null,
      "outputs": [
        {
          "output_type": "stream",
          "name": "stdout",
          "text": [
            "/content\n"
          ]
        }
      ]
    },
    {
      "cell_type": "code",
      "source": [
        "!zip -r log_file_name.zip /content/model/"
      ],
      "metadata": {
        "colab": {
          "base_uri": "https://localhost:8080/"
        },
        "id": "VSuJ0zEsFDVD",
        "outputId": "c14535f5-8157-431e-a44b-517804ef8ed1"
      },
      "execution_count": null,
      "outputs": [
        {
          "output_type": "stream",
          "name": "stdout",
          "text": [
            "updating: content/model/ (stored 0%)\n",
            "updating: content/model/.ipynb_checkpoints/ (stored 0%)\n",
            "  adding: content/model/best_model_backbone_efficientnetb7_03312024230945.h5_acc_curve.png (deflated 13%)\n",
            "  adding: content/model/best_model_backbone_efficientnetb7_03312024230945.h5 (deflated 7%)\n",
            "  adding: content/model/best_model_backbone_efficientnetb7_03312024230945.h5_loss_curve.png (deflated 15%)\n"
          ]
        }
      ]
    },
    {
      "cell_type": "code",
      "source": [
        "!mkdir prediction_results"
      ],
      "metadata": {
        "colab": {
          "base_uri": "https://localhost:8080/"
        },
        "id": "hWRQ5PkqTb9Q",
        "outputId": "c016414e-f60c-463e-8d69-d68ebe2c88d4"
      },
      "execution_count": null,
      "outputs": [
        {
          "output_type": "stream",
          "name": "stdout",
          "text": [
            "mkdir: cannot create directory ‘prediction_results’: File exists\n"
          ]
        }
      ]
    },
    {
      "cell_type": "code",
      "source": [
        "number_of_test_samples = 4\n",
        "for single_image_id in image_ids[n_samples+2:n_samples+2+number_of_test_samples]:\n",
        "\n",
        "    #single_image_id = image_ids[n_samples+2]\n",
        "\n",
        "    img = coco.loadImgs(single_image_id)[0]\n",
        "    image_path = os.path.join(TRAIN_IMAGES_DIRECTORY, img[\"file_name\"])\n",
        "    I = io.imread(image_path)\n",
        "    img_resized = cv2.resize(I,(256,256))\n",
        "\n",
        "    #generating the mask\n",
        "    annotation_ids = coco.getAnnIds(imgIds=img['id'])\n",
        "    annotations = coco.loadAnns(annotation_ids)\n",
        "\n",
        "    mask_complete = np.zeros((300,300), dtype='uint8')\n",
        "    for _idx, annotation in enumerate(annotations):\n",
        "\n",
        "      rle = cocomask.frPyObjects(annotation['segmentation'], img['height'], img['width'])\n",
        "      m = cocomask.decode(rle)\n",
        "      # m.shape has a shape of (300, 300, 1)\n",
        "      # so we first convert it to a shape of (300, 300)\n",
        "      m = m.reshape((img['height'], img['width']))\n",
        "\n",
        "      mask_complete+=m\n",
        "    mask_complete = cv2.resize(mask_complete,(256,256))\n",
        "\n",
        "    single_image = preprocess_input(img_resized)\n",
        "    test_img_input=np.expand_dims(single_image, 0)\n",
        "    prediction = (model_resnet_backbone.predict(test_img_input)[0,:,:,0] > 0.7).astype(np.uint8)\n",
        "    plt.imsave(\"/content/prediction_results/\" + img[\"file_name\"], prediction)\n",
        "    plt.imsave(\"/content/prediction_results/\" + 'GT_'+ img[\"file_name\"], mask_complete)"
      ],
      "metadata": {
        "colab": {
          "base_uri": "https://localhost:8080/"
        },
        "id": "F9r6WgqCI1rN",
        "outputId": "f15434fa-4d33-45db-d3ee-25a8ca8ed600"
      },
      "execution_count": null,
      "outputs": [
        {
          "output_type": "stream",
          "name": "stdout",
          "text": [
            "1/1 [==============================] - 3s 3s/step\n",
            "1/1 [==============================] - 0s 47ms/step\n",
            "1/1 [==============================] - 0s 44ms/step\n",
            "1/1 [==============================] - 0s 54ms/step\n"
          ]
        }
      ]
    },
    {
      "cell_type": "code",
      "source": [
        "!zip -r prediction_results.zip /content/prediction_results/"
      ],
      "metadata": {
        "colab": {
          "base_uri": "https://localhost:8080/"
        },
        "id": "3B3LsBLxPr-i",
        "outputId": "c80b0dad-3dfd-4abb-866d-e681d90218eb"
      },
      "execution_count": null,
      "outputs": [
        {
          "output_type": "stream",
          "name": "stdout",
          "text": [
            "  adding: content/prediction_results/ (stored 0%)\n",
            "  adding: content/prediction_results/GT_000000035344.jpg (deflated 22%)\n",
            "  adding: content/prediction_results/GT_000000068111.jpg (deflated 16%)\n",
            "  adding: content/prediction_results/GT_000000002592.jpg (deflated 8%)\n",
            "  adding: content/prediction_results/000000100900.jpg (deflated 8%)\n",
            "  adding: content/prediction_results/000000035344.jpg (deflated 12%)\n",
            "  adding: content/prediction_results/.ipynb_checkpoints/ (stored 0%)\n",
            "  adding: content/prediction_results/000000002592.jpg (deflated 9%)\n",
            "  adding: content/prediction_results/000000068111.jpg (deflated 10%)\n",
            "  adding: content/prediction_results/GT_000000100900.jpg (deflated 15%)\n"
          ]
        }
      ]
    },
    {
      "cell_type": "code",
      "source": [
        "plt.imsave(\"/content/prediction.jpg\", prediction)\n",
        "#plt.imshow(mask_complete)"
      ],
      "metadata": {
        "id": "zVUYBrvjJlBV"
      },
      "execution_count": null,
      "outputs": []
    },
    {
      "cell_type": "code",
      "source": [
        "# test_img_number = random.randint(0, len(X_test))\n",
        "test_img_number = 5\n",
        "test_img = X_test[test_img_number]\n",
        "ground_truth=y_test_argmax[test_img_number]\n",
        "#test_img_norm=test_img[:,:,0][:,:,None]\n",
        "test_img_input=np.expand_dims(test_img, 0)\n",
        "prediction = (model_resnet_backbone.predict(test_img_input))\n",
        "predicted_img=np.argmax(prediction, axis=3)[0,:,:]\n",
        "#predicted_img=np.argmax(prediction, axis=3)"
      ],
      "metadata": {
        "id": "8RQpccXX2EtV"
      },
      "execution_count": null,
      "outputs": []
    },
    {
      "cell_type": "markdown",
      "source": [
        "**rascunhos**"
      ],
      "metadata": {
        "id": "Gel-cA0g7fWE"
      }
    },
    {
      "cell_type": "code",
      "source": [
        "\"\"\"perc_train = 0.7\n",
        "perc_test = 1 - perc_train\n",
        "n_train_samples = int(n_samples*perc_train)\n",
        "n_test_samples = n_samples - n_train_samples\n",
        "\n",
        "print(\"n_train_samples: \",n_train_samples)\n",
        "print(\"n_test_samples: \", n_test_samples)\"\"\""
      ],
      "metadata": {
        "colab": {
          "base_uri": "https://localhost:8080/"
        },
        "id": "yAcnVJcBZYBo",
        "outputId": "62c35729-db99-4c1f-ac91-038e38e86e3a"
      },
      "execution_count": null,
      "outputs": [
        {
          "output_type": "stream",
          "name": "stdout",
          "text": [
            "n_train_samples:  731\n",
            "n_test_samples:  314\n"
          ]
        }
      ]
    },
    {
      "cell_type": "code",
      "source": [
        "\"\"\"# i (256,256,3)\n",
        "X_train = np.zeros((0,256,256,3))\n",
        "X_test  = np.zeros((0,256,256,3))\n",
        "\n",
        "#creating X_train and X_test\n",
        "for idx, i in enumerate(image_dataset_gen):\n",
        "    if idx <= n_train_samples:\n",
        "        X_train = np.concatenate([X_train, np.expand_dims(np.array(i), axis=0)], axis=0)\n",
        "    else:\n",
        "        X_test  = np.concatenate([X_test, np.expand_dims(np.array(i), axis=0)], axis=0)\"\"\"\n"
      ],
      "metadata": {
        "id": "yvdmsFMz9CDa"
      },
      "execution_count": null,
      "outputs": []
    },
    {
      "cell_type": "code",
      "source": [
        "\"\"\"print(X_train.shape)\n",
        "print(type(X_train))\"\"\""
      ],
      "metadata": {
        "id": "04zva8MzEbHq",
        "colab": {
          "base_uri": "https://localhost:8080/"
        },
        "outputId": "ad106e72-3264-4fb1-e9ac-91e3140826ab"
      },
      "execution_count": null,
      "outputs": [
        {
          "output_type": "stream",
          "name": "stdout",
          "text": [
            "(732, 256, 256, 3)\n",
            "<class 'numpy.ndarray'>\n"
          ]
        }
      ]
    },
    {
      "cell_type": "code",
      "source": [
        "\"\"\"print(X_test.shape)\n",
        "print(type(X_test))\"\"\""
      ],
      "metadata": {
        "colab": {
          "base_uri": "https://localhost:8080/"
        },
        "id": "JCOpUoxCbDAo",
        "outputId": "3fabdf75-0fe5-4d49-f0b4-a0af668f9117"
      },
      "execution_count": null,
      "outputs": [
        {
          "output_type": "stream",
          "name": "stdout",
          "text": [
            "(313, 256, 256, 3)\n",
            "<class 'numpy.ndarray'>\n"
          ]
        }
      ]
    },
    {
      "cell_type": "code",
      "source": [],
      "metadata": {
        "id": "yL0tYWm_A49e"
      },
      "execution_count": null,
      "outputs": []
    },
    {
      "cell_type": "code",
      "source": [
        "for idx, image in enumerate(image_ids):\n",
        "\n",
        "  #getting the image from the dataset\n",
        "  img = coco.loadImgs(image)[0]\n",
        "  #print(img[\"file_name\"])\n",
        "  image_path = os.path.join(TRAIN_IMAGES_DIRECTORY, img[\"file_name\"])\n",
        "  shutil.copy(image_path, main_directory + image_directory + img[\"file_name\"])\n",
        "  #generating the mask\n",
        "  annotation_ids = coco.getAnnIds(imgIds=img['id'])\n",
        "  annotations = coco.loadAnns(annotation_ids)\n",
        "\n",
        "  mask_complete = np.zeros((300,300), dtype='uint8')\n",
        "  for _idx, annotation in enumerate(annotations):\n",
        "\n",
        "      rle = cocomask.frPyObjects(annotation['segmentation'], img['height'], img['width'])\n",
        "      m = cocomask.decode(rle)\n",
        "      # m.shape has a shape of (300, 300, 1)\n",
        "      # so we first convert it to a shape of (300, 300)\n",
        "      m = m.reshape((img['height'], img['width']))\n",
        "\n",
        "      mask_complete+=m\n",
        "  #plt.imshow(mask_complete)\n",
        "  plt.imsave(main_directory + mask_directory + img[\"file_name\"], mask_complete)\n"
      ],
      "metadata": {
        "id": "4F95u0qgdz_3"
      },
      "execution_count": null,
      "outputs": []
    },
    {
      "cell_type": "code",
      "source": [
        "shutil.make_archive('/content/dataset_building', 'zip', '/content/')"
      ],
      "metadata": {
        "colab": {
          "base_uri": "https://localhost:8080/",
          "height": 339
        },
        "id": "ezHImclDwLJx",
        "outputId": "1464bfb8-f179-4578-b7b3-a0272e7ad00b"
      },
      "execution_count": null,
      "outputs": [
        {
          "output_type": "error",
          "ename": "OSError",
          "evalue": "[Errno 95] Operation not supported: '/content/gdrive/MyDrive/Report Marco.zdoc'",
          "traceback": [
            "\u001b[0;31m---------------------------------------------------------------------------\u001b[0m",
            "\u001b[0;31mOSError\u001b[0m                                   Traceback (most recent call last)",
            "\u001b[0;32m<ipython-input-109-727f789dc8e9>\u001b[0m in \u001b[0;36m<cell line: 1>\u001b[0;34m()\u001b[0m\n\u001b[0;32m----> 1\u001b[0;31m \u001b[0mshutil\u001b[0m\u001b[0;34m.\u001b[0m\u001b[0mmake_archive\u001b[0m\u001b[0;34m(\u001b[0m\u001b[0;34m'/content/dataset_building'\u001b[0m\u001b[0;34m,\u001b[0m \u001b[0;34m'zip'\u001b[0m\u001b[0;34m,\u001b[0m \u001b[0;34m'/content/'\u001b[0m\u001b[0;34m)\u001b[0m\u001b[0;34m\u001b[0m\u001b[0;34m\u001b[0m\u001b[0m\n\u001b[0m",
            "\u001b[0;32m/usr/lib/python3.10/shutil.py\u001b[0m in \u001b[0;36mmake_archive\u001b[0;34m(base_name, format, root_dir, base_dir, verbose, dry_run, owner, group, logger)\u001b[0m\n\u001b[1;32m   1122\u001b[0m \u001b[0;34m\u001b[0m\u001b[0m\n\u001b[1;32m   1123\u001b[0m     \u001b[0;32mtry\u001b[0m\u001b[0;34m:\u001b[0m\u001b[0;34m\u001b[0m\u001b[0;34m\u001b[0m\u001b[0m\n\u001b[0;32m-> 1124\u001b[0;31m         \u001b[0mfilename\u001b[0m \u001b[0;34m=\u001b[0m \u001b[0mfunc\u001b[0m\u001b[0;34m(\u001b[0m\u001b[0mbase_name\u001b[0m\u001b[0;34m,\u001b[0m \u001b[0mbase_dir\u001b[0m\u001b[0;34m,\u001b[0m \u001b[0;34m**\u001b[0m\u001b[0mkwargs\u001b[0m\u001b[0;34m)\u001b[0m\u001b[0;34m\u001b[0m\u001b[0;34m\u001b[0m\u001b[0m\n\u001b[0m\u001b[1;32m   1125\u001b[0m     \u001b[0;32mfinally\u001b[0m\u001b[0;34m:\u001b[0m\u001b[0;34m\u001b[0m\u001b[0;34m\u001b[0m\u001b[0m\n\u001b[1;32m   1126\u001b[0m         \u001b[0;32mif\u001b[0m \u001b[0msave_cwd\u001b[0m \u001b[0;32mis\u001b[0m \u001b[0;32mnot\u001b[0m \u001b[0;32mNone\u001b[0m\u001b[0;34m:\u001b[0m\u001b[0;34m\u001b[0m\u001b[0;34m\u001b[0m\u001b[0m\n",
            "\u001b[0;32m/usr/lib/python3.10/shutil.py\u001b[0m in \u001b[0;36m_make_zipfile\u001b[0;34m(base_name, base_dir, verbose, dry_run, logger, owner, group, root_dir)\u001b[0m\n\u001b[1;32m   1007\u001b[0m                     \u001b[0;32mif\u001b[0m \u001b[0mos\u001b[0m\u001b[0;34m.\u001b[0m\u001b[0mpath\u001b[0m\u001b[0;34m.\u001b[0m\u001b[0misfile\u001b[0m\u001b[0;34m(\u001b[0m\u001b[0mpath\u001b[0m\u001b[0;34m)\u001b[0m\u001b[0;34m:\u001b[0m\u001b[0;34m\u001b[0m\u001b[0;34m\u001b[0m\u001b[0m\n\u001b[1;32m   1008\u001b[0m                         \u001b[0marcname\u001b[0m \u001b[0;34m=\u001b[0m \u001b[0mos\u001b[0m\u001b[0;34m.\u001b[0m\u001b[0mpath\u001b[0m\u001b[0;34m.\u001b[0m\u001b[0mjoin\u001b[0m\u001b[0;34m(\u001b[0m\u001b[0marcdirpath\u001b[0m\u001b[0;34m,\u001b[0m \u001b[0mname\u001b[0m\u001b[0;34m)\u001b[0m\u001b[0;34m\u001b[0m\u001b[0;34m\u001b[0m\u001b[0m\n\u001b[0;32m-> 1009\u001b[0;31m                         \u001b[0mzf\u001b[0m\u001b[0;34m.\u001b[0m\u001b[0mwrite\u001b[0m\u001b[0;34m(\u001b[0m\u001b[0mpath\u001b[0m\u001b[0;34m,\u001b[0m \u001b[0marcname\u001b[0m\u001b[0;34m)\u001b[0m\u001b[0;34m\u001b[0m\u001b[0;34m\u001b[0m\u001b[0m\n\u001b[0m\u001b[1;32m   1010\u001b[0m                         \u001b[0;32mif\u001b[0m \u001b[0mlogger\u001b[0m \u001b[0;32mis\u001b[0m \u001b[0;32mnot\u001b[0m \u001b[0;32mNone\u001b[0m\u001b[0;34m:\u001b[0m\u001b[0;34m\u001b[0m\u001b[0;34m\u001b[0m\u001b[0m\n\u001b[1;32m   1011\u001b[0m                             \u001b[0mlogger\u001b[0m\u001b[0;34m.\u001b[0m\u001b[0minfo\u001b[0m\u001b[0;34m(\u001b[0m\u001b[0;34m\"adding '%s'\"\u001b[0m\u001b[0;34m,\u001b[0m \u001b[0mpath\u001b[0m\u001b[0;34m)\u001b[0m\u001b[0;34m\u001b[0m\u001b[0;34m\u001b[0m\u001b[0m\n",
            "\u001b[0;32m/usr/lib/python3.10/zipfile.py\u001b[0m in \u001b[0;36mwrite\u001b[0;34m(self, filename, arcname, compress_type, compresslevel)\u001b[0m\n\u001b[1;32m   1773\u001b[0m                 \u001b[0mself\u001b[0m\u001b[0;34m.\u001b[0m\u001b[0mstart_dir\u001b[0m \u001b[0;34m=\u001b[0m \u001b[0mself\u001b[0m\u001b[0;34m.\u001b[0m\u001b[0mfp\u001b[0m\u001b[0;34m.\u001b[0m\u001b[0mtell\u001b[0m\u001b[0;34m(\u001b[0m\u001b[0;34m)\u001b[0m\u001b[0;34m\u001b[0m\u001b[0;34m\u001b[0m\u001b[0m\n\u001b[1;32m   1774\u001b[0m         \u001b[0;32melse\u001b[0m\u001b[0;34m:\u001b[0m\u001b[0;34m\u001b[0m\u001b[0;34m\u001b[0m\u001b[0m\n\u001b[0;32m-> 1775\u001b[0;31m             \u001b[0;32mwith\u001b[0m \u001b[0mopen\u001b[0m\u001b[0;34m(\u001b[0m\u001b[0mfilename\u001b[0m\u001b[0;34m,\u001b[0m \u001b[0;34m\"rb\"\u001b[0m\u001b[0;34m)\u001b[0m \u001b[0;32mas\u001b[0m \u001b[0msrc\u001b[0m\u001b[0;34m,\u001b[0m \u001b[0mself\u001b[0m\u001b[0;34m.\u001b[0m\u001b[0mopen\u001b[0m\u001b[0;34m(\u001b[0m\u001b[0mzinfo\u001b[0m\u001b[0;34m,\u001b[0m \u001b[0;34m'w'\u001b[0m\u001b[0;34m)\u001b[0m \u001b[0;32mas\u001b[0m \u001b[0mdest\u001b[0m\u001b[0;34m:\u001b[0m\u001b[0;34m\u001b[0m\u001b[0;34m\u001b[0m\u001b[0m\n\u001b[0m\u001b[1;32m   1776\u001b[0m                 \u001b[0mshutil\u001b[0m\u001b[0;34m.\u001b[0m\u001b[0mcopyfileobj\u001b[0m\u001b[0;34m(\u001b[0m\u001b[0msrc\u001b[0m\u001b[0;34m,\u001b[0m \u001b[0mdest\u001b[0m\u001b[0;34m,\u001b[0m \u001b[0;36m1024\u001b[0m\u001b[0;34m*\u001b[0m\u001b[0;36m8\u001b[0m\u001b[0;34m)\u001b[0m\u001b[0;34m\u001b[0m\u001b[0;34m\u001b[0m\u001b[0m\n\u001b[1;32m   1777\u001b[0m \u001b[0;34m\u001b[0m\u001b[0m\n",
            "\u001b[0;31mOSError\u001b[0m: [Errno 95] Operation not supported: '/content/gdrive/MyDrive/Report Marco.zdoc'"
          ]
        }
      ]
    },
    {
      "cell_type": "code",
      "source": [
        "\"\"\"main_loc = '/content/3'\n",
        "\n",
        "image_dataset = []\n",
        "mask_dataset  = []\n",
        "\n",
        "for idx, image in enumerate(image_ids_part1):\n",
        "\n",
        "    #getting the image from the dataset\n",
        "    img = coco.loadImgs(image)[0]\n",
        "    #print(img[\"file_name\"])\n",
        "    image_path = os.path.join(TRAIN_IMAGES_DIRECTORY, img[\"file_name\"])\n",
        "    I = io.imread(image_path)\n",
        "    img_resized = cv2.resize(I,(256,256))\n",
        "\n",
        "    #image_dataset.append(img_resized)\n",
        "    image_dataset_gen = get_generator_image_dataset(img_resized)\n",
        "\n",
        "    #generating the mask\n",
        "    annotation_ids = coco.getAnnIds(imgIds=img['id'])\n",
        "    annotations = coco.loadAnns(annotation_ids)\n",
        "\n",
        "    mask_complete = np.zeros((300,300), dtype='uint8')\n",
        "    for _idx, annotation in enumerate(annotations):\n",
        "\n",
        "      rle = cocomask.frPyObjects(annotation['segmentation'], img['height'], img['width'])\n",
        "      m = cocomask.decode(rle)\n",
        "      # m.shape has a shape of (300, 300, 1)\n",
        "      # so we first convert it to a shape of (300, 300)\n",
        "      m = m.reshape((img['height'], img['width']))\n",
        "\n",
        "      mask_complete+=m\n",
        "    mask_complete = cv2.resize(mask_complete,(256,256))\n",
        "    #mask_dataset.append(mask_complete)\n",
        "    mask_dataset_gen = get_generator_mask_dataset(mask_complete)\n",
        "#mask_dataset =  np.array(mask_dataset)\n",
        "#image_dataset =  np.array(image_dataset)\"\"\"\n"
      ],
      "metadata": {
        "id": "hfU6YobA3F7y"
      },
      "execution_count": null,
      "outputs": []
    },
    {
      "cell_type": "code",
      "source": [
        "!zip -r dataset_building.zip /content/dataset_building"
      ],
      "metadata": {
        "id": "8WhcPr1tyR9V"
      },
      "execution_count": null,
      "outputs": []
    },
    {
      "cell_type": "code",
      "source": [
        "ls"
      ],
      "metadata": {
        "id": "3sc4-g_n24Ew"
      },
      "execution_count": null,
      "outputs": []
    },
    {
      "cell_type": "code",
      "source": [
        "original = './dataset_building.zip'\n",
        "target = '/content/dataset_building.zip'\n",
        "\n",
        "shutil.move(original, target)"
      ],
      "metadata": {
        "colab": {
          "base_uri": "https://localhost:8080/",
          "height": 35
        },
        "id": "gOMBGFV029qj",
        "outputId": "6ca96bbf-6fa0-42fa-ebf5-98cb6fd17a0c"
      },
      "execution_count": null,
      "outputs": [
        {
          "output_type": "execute_result",
          "data": {
            "text/plain": [
              "'/content/dataset_building.zip'"
            ],
            "application/vnd.google.colaboratory.intrinsic+json": {
              "type": "string"
            }
          },
          "metadata": {},
          "execution_count": 112
        }
      ]
    },
    {
      "cell_type": "code",
      "source": [
        "original = '/content/dataset_building.zip'\n",
        "target = '/content/gdrive/MyDrive/Colab Notebooks/Dataset/dataset_building.zip'\n",
        "\n",
        "shutil.move(original, target)"
      ],
      "metadata": {
        "colab": {
          "base_uri": "https://localhost:8080/",
          "height": 35
        },
        "id": "4OyrMbx03YpA",
        "outputId": "971d2762-0829-432c-99a8-9b2110b617d8"
      },
      "execution_count": null,
      "outputs": [
        {
          "output_type": "execute_result",
          "data": {
            "text/plain": [
              "'/content/gdrive/MyDrive/Colab Notebooks/Dataset/dataset_building.zip'"
            ],
            "application/vnd.google.colaboratory.intrinsic+json": {
              "type": "string"
            }
          },
          "metadata": {},
          "execution_count": 113
        }
      ]
    },
    {
      "cell_type": "markdown",
      "source": [
        "**carregar aqui as imagens**"
      ],
      "metadata": {
        "id": "lB_fOdIE6wni"
      }
    },
    {
      "cell_type": "code",
      "source": [],
      "metadata": {
        "id": "B8wq0_q96zcz"
      },
      "execution_count": null,
      "outputs": []
    },
    {
      "cell_type": "markdown",
      "source": [
        "**treinando o modelo**"
      ],
      "metadata": {
        "id": "NwKbuxWX5MmG"
      }
    },
    {
      "cell_type": "code",
      "source": [
        "def save_model_summary(model, log_file_path, log_file_name, backbone_name, history):\n",
        "    \"\"\"\n",
        "    Save the model architecture to a JSON file\n",
        "    \"\"\"\n",
        "    model_json = model.to_json()\n",
        "    json_file_path = log_file_path + '_architecture.json'\n",
        "    with open(json_file_path, 'w') as json_file:\n",
        "        json_file.write(model_json)\n",
        "    logging.info(f'Model architecture saved to: {json_file_path}')\n",
        "\n",
        "    # Save the model summary to a text file\n",
        "    summary_stream = io.StringIO()\n",
        "    with redirect_stdout(summary_stream):\n",
        "        model.summary()\n",
        "\n",
        "    summary_file_path = log_file_path + log_file_name + '_summary.txt'\n",
        "    with open(summary_file_path, 'w') as summary_file:\n",
        "        summary_file.write(summary_stream.getvalue())\n",
        "        summary_file.write(backbone_name)\n",
        "        summary_file.write(str(history.history))\n",
        "    logging.info(f'Model summary saved to: {summary_file_path}')"
      ],
      "metadata": {
        "id": "mjZ72VkE5PBu"
      },
      "execution_count": null,
      "outputs": []
    },
    {
      "cell_type": "code",
      "source": [
        "def jacard_coef(y_true, y_pred):\n",
        "    y_true_f = K.flatten(y_true)\n",
        "    y_pred_f = K.flatten(y_pred)\n",
        "    intersection = K.sum(y_true_f * y_pred_f)\n",
        "    return (intersection + 1.0) / (K.sum(y_true_f) + K.sum(y_pred_f) - intersection + 1.0)\n"
      ],
      "metadata": {
        "id": "TIQ5ZdZV5ppS"
      },
      "execution_count": null,
      "outputs": []
    },
    {
      "cell_type": "code",
      "source": [
        "def dice_coef(y_true, y_pred, smooth=1):\n",
        "    intersection = K.sum(y_true * y_pred, axis=[1,2,3])\n",
        "    union = K.sum(y_true, axis=[1,2,3]) + K.sum(y_pred, axis=[1,2,3])\n",
        "    dice = K.mean((2. * intersection + smooth)/(union + smooth), axis=0)\n",
        "    return dice"
      ],
      "metadata": {
        "id": "L5fhEFHy5rio"
      },
      "execution_count": null,
      "outputs": []
    },
    {
      "cell_type": "code",
      "source": [
        "list_of_images = os.listdir()\n",
        "image_dataset"
      ],
      "metadata": {
        "id": "LcxQJk8_5s5f"
      },
      "execution_count": null,
      "outputs": []
    }
  ]
}